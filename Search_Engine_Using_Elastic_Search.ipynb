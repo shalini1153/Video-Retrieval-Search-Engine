{
  "cells": [
    {
      "cell_type": "markdown",
      "source": [
        "**SEARCH ENGINE IMPLEMENTATION USING ELASTIC SEARCH**"
      ],
      "metadata": {
        "id": "TLAsLQbRElQG"
      },
      "id": "TLAsLQbRElQG"
    },
    {
      "cell_type": "code",
      "execution_count": null,
      "metadata": {
        "id": "YyqZigvFoW75",
        "outputId": "b4cfbbac-35d3-4398-981e-1b8c3ec5a49c"
      },
      "outputs": [
        {
          "name": "stdout",
          "output_type": "stream",
          "text": [
            "(5, 2, 0)\n"
          ]
        }
      ],
      "source": [
        "## Importing the requird Elastic search library\n",
        "import elasticsearch\n",
        "print(elasticsearch.__version__)"
      ],
      "id": "YyqZigvFoW75"
    },
    {
      "cell_type": "code",
      "execution_count": null,
      "metadata": {
        "id": "G6F7Ao3yoW8B",
        "outputId": "dbc4ec00-24cc-400b-84ef-29a63395bcc3"
      },
      "outputs": [
        {
          "name": "stdout",
          "output_type": "stream",
          "text": [
            "Collecting elasticsearch==5.2.0\n",
            "  Using cached elasticsearch-5.2.0-py2.py3-none-any.whl (57 kB)\n",
            "Requirement already satisfied: urllib3<2.0,>=1.8 in /Users/shalinijain/opt/anaconda3/envs/test_ten/lib/python3.8/site-packages (from elasticsearch==5.2.0) (1.26.9)\n",
            "Installing collected packages: elasticsearch\n",
            "Successfully installed elasticsearch-5.2.0\n",
            "Note: you may need to restart the kernel to use updated packages.\n"
          ]
        }
      ],
      "source": [
        "## Install the elasticsearch to our environment \n",
        "pip install elasticsearch==5.2.0"
      ],
      "id": "G6F7Ao3yoW8B"
    },
    {
      "cell_type": "code",
      "execution_count": null,
      "metadata": {
        "id": "vSgfFYmyoW8C",
        "outputId": "0bdd3329-ee2f-48ce-c931-acf036c8cb76"
      },
      "outputs": [
        {
          "data": {
            "text/plain": [
              "True"
            ]
          },
          "execution_count": 39,
          "metadata": {},
          "output_type": "execute_result"
        }
      ],
      "source": [
        "## Import the library and configure the Elastic-Search server \n",
        "## The server is running on the port 9200, below code cell is executed to instantiate an Elasticsearch client object and connecting to server\n",
        "from elasticsearch import Elasticsearch\n",
        "import numpy as np\n",
        "import pandas as pd\n",
        "\n",
        "config = {'host':'localhost', 'port':9200}\n",
        "es = Elasticsearch([config])\n",
        "\n",
        "# test connection to ES server\n",
        "es.ping()"
      ],
      "id": "vSgfFYmyoW8C"
    },
    {
      "cell_type": "code",
      "execution_count": null,
      "metadata": {
        "id": "Jjw9PvLcoW8D"
      },
      "outputs": [],
      "source": [
        "try :\n",
        "    es.delete_index(\"youtube_index\")\n",
        "except :\n",
        "    pass"
      ],
      "id": "Jjw9PvLcoW8D"
    },
    {
      "cell_type": "markdown",
      "source": [
        "**Creating our Index , Stemming & Tokenization**\n",
        "\n",
        "The first step is to create a new index and add our YouTube metadata. A set of mappings are specified that indicates our index schema, datatypes and text field.\n",
        "\n",
        "\n",
        "As specified in our architecture, the language processing is done using Stemming and Tokenization.\n",
        "\n",
        "\n",
        "**Stemming** : is the process of reducing a word to its word stem that affixes to suffixes and prefixes or to the roots of words known as a lemma. In our Elastic search code, we have implemented stop analyzer which adds support for removing stop words.\n",
        "\n",
        "**Tokenization** : A Standard Tokenizer is used which provides grammar based tokenization irrespective of the language.\n",
        "\n",
        "**Stop Words** : Stop words are set of commonly used words, they are used to eliminate unimportant words, and allows the application to focus on important words instead.\n",
        "\n",
        "\n"
      ],
      "metadata": {
        "id": "_MZdhZNAqARW"
      },
      "id": "_MZdhZNAqARW"
    },
    {
      "cell_type": "code",
      "execution_count": null,
      "metadata": {
        "id": "1ujSl1o2oW8E"
      },
      "outputs": [],
      "source": [
        "index_config = {\n",
        "   \"settings\": {\n",
        "        \"analysis\": {\n",
        "            \"analyzer\": {\n",
        "                \"stop_stem_analyzer\": {\n",
        "                    \"type\": \"custom\",\n",
        "                    \"tokenizer\": \"standard\",\n",
        "                    \"filter\":[\n",
        "                        \"lowercase\",\n",
        "                        \"stop\",\n",
        "                        \"snowball\"\n",
        "                    ]\n",
        "                    \n",
        "                }\n",
        "            }\n",
        "        }\n",
        "    },\n",
        "    \"mappings\": { \n",
        "        \"properties\": {\n",
        "            \"videoDescription\": {\"type\": \"text\", \"analyzer\": \"stop_stem_analyzer\"},\n",
        "            \"videoTitle\": {\"type\": \"text\", \"analyzer\": \"stop_stem_analyzer\"},\n",
        "            \"videoCategoryLabel\": {\"type\": \"text\", \"analyzer\": \"stop_stem_analyzer\"}\n",
        "            }\n",
        "        }\n",
        "    }"
      ],
      "id": "1ujSl1o2oW8E"
    },
    {
      "cell_type": "code",
      "execution_count": null,
      "metadata": {
        "id": "5RH9e89BoW8F",
        "outputId": "0b424009-2d61-4aa4-8fa8-5c512208d090"
      },
      "outputs": [
        {
          "data": {
            "text/plain": [
              "{'acknowledged': True, 'shards_acknowledged': True, 'index': 'youtube_index'}"
            ]
          },
          "execution_count": 42,
          "metadata": {},
          "output_type": "execute_result"
        }
      ],
      "source": [
        "##Creating index\n",
        "index_name = 'youtube_index'\n",
        "es.indices.create(index=index_name, body=index_config, ignore=400)"
      ],
      "id": "5RH9e89BoW8F"
    },
    {
      "cell_type": "markdown",
      "source": [
        "**Reading our csv dataset**"
      ],
      "metadata": {
        "id": "FqBLxuels9w-"
      },
      "id": "FqBLxuels9w-"
    },
    {
      "cell_type": "code",
      "execution_count": null,
      "metadata": {
        "id": "9tzC9WpvoW8G"
      },
      "outputs": [],
      "source": [
        "df = pd.read_csv('/Users/shalinijain/Downloads/Clean_dataSet.csv')"
      ],
      "id": "9tzC9WpvoW8G"
    },
    {
      "cell_type": "code",
      "execution_count": null,
      "metadata": {
        "id": "ficJjlYwoW8H",
        "outputId": "8717a4d3-a08c-4e71-a6b9-9687d92f0b19"
      },
      "outputs": [
        {
          "data": {
            "text/html": [
              "<div>\n",
              "<style scoped>\n",
              "    .dataframe tbody tr th:only-of-type {\n",
              "        vertical-align: middle;\n",
              "    }\n",
              "\n",
              "    .dataframe tbody tr th {\n",
              "        vertical-align: top;\n",
              "    }\n",
              "\n",
              "    .dataframe thead th {\n",
              "        text-align: right;\n",
              "    }\n",
              "</style>\n",
              "<table border=\"1\" class=\"dataframe\">\n",
              "  <thead>\n",
              "    <tr style=\"text-align: right;\">\n",
              "      <th></th>\n",
              "      <th>videotitle</th>\n",
              "      <th>videodescription</th>\n",
              "      <th>videocategorylabel</th>\n",
              "    </tr>\n",
              "  </thead>\n",
              "  <tbody>\n",
              "    <tr>\n",
              "      <th>0</th>\n",
              "      <td>Add 500 to All Numbers in Text String? LET or ...</td>\n",
              "      <td>Download Excel File: http://excelisfun.net/fil...</td>\n",
              "      <td>Education</td>\n",
              "    </tr>\n",
              "    <tr>\n",
              "      <th>1</th>\n",
              "      <td>Dynamic Excel Multiplication Table with Condit...</td>\n",
              "      <td>Download Excel File: http://excelisfun.net/fil...</td>\n",
              "      <td>Education</td>\n",
              "    </tr>\n",
              "    <tr>\n",
              "      <th>2</th>\n",
              "      <td>Dueling Excel #191: Net Working Hours Spanning...</td>\n",
              "      <td>Download Excel File: http://excelisfun.net/fil...</td>\n",
              "      <td>Education</td>\n",
              "    </tr>\n",
              "    <tr>\n",
              "      <th>3</th>\n",
              "      <td>Append Two Number Columns and Sort. Excel Magi...</td>\n",
              "      <td>Download Excel File: http://excelisfun.net/fil...</td>\n",
              "      <td>Education</td>\n",
              "    </tr>\n",
              "    <tr>\n",
              "      <th>4</th>\n",
              "      <td>LET Function Advanced Array Formula for Dynami...</td>\n",
              "      <td>Download Excel File: http://excelisfun.net/fil...</td>\n",
              "      <td>Education</td>\n",
              "    </tr>\n",
              "    <tr>\n",
              "      <th>...</th>\n",
              "      <td>...</td>\n",
              "      <td>...</td>\n",
              "      <td>...</td>\n",
              "    </tr>\n",
              "    <tr>\n",
              "      <th>43647</th>\n",
              "      <td>KDD2016 paper 1202</td>\n",
              "      <td>Title: Sampling of Attributed Networks from Hi...</td>\n",
              "      <td>People &amp; Blogs</td>\n",
              "    </tr>\n",
              "    <tr>\n",
              "      <th>43648</th>\n",
              "      <td>KDD2016 paper 1227</td>\n",
              "      <td>Title: Identifying Earmarks in Congressional B...</td>\n",
              "      <td>People &amp; Blogs</td>\n",
              "    </tr>\n",
              "    <tr>\n",
              "      <th>43649</th>\n",
              "      <td>KDD2016 paper 1236</td>\n",
              "      <td>Title: Online Feature Selection: A Limited-Mem...</td>\n",
              "      <td>People &amp; Blogs</td>\n",
              "    </tr>\n",
              "    <tr>\n",
              "      <th>43650</th>\n",
              "      <td>KDD2016 paper 958</td>\n",
              "      <td>Title: Scalable Betweenness Centrality Maximiz...</td>\n",
              "      <td>People &amp; Blogs</td>\n",
              "    </tr>\n",
              "    <tr>\n",
              "      <th>43651</th>\n",
              "      <td>KDD2016 paper 799</td>\n",
              "      <td>Title: Identifying Earmarks in Congressional B...</td>\n",
              "      <td>People &amp; Blogs</td>\n",
              "    </tr>\n",
              "  </tbody>\n",
              "</table>\n",
              "<p>43652 rows × 3 columns</p>\n",
              "</div>"
            ],
            "text/plain": [
              "                                              videotitle  \\\n",
              "0      Add 500 to All Numbers in Text String? LET or ...   \n",
              "1      Dynamic Excel Multiplication Table with Condit...   \n",
              "2      Dueling Excel #191: Net Working Hours Spanning...   \n",
              "3      Append Two Number Columns and Sort. Excel Magi...   \n",
              "4      LET Function Advanced Array Formula for Dynami...   \n",
              "...                                                  ...   \n",
              "43647                                 KDD2016 paper 1202   \n",
              "43648                                 KDD2016 paper 1227   \n",
              "43649                                 KDD2016 paper 1236   \n",
              "43650                                  KDD2016 paper 958   \n",
              "43651                                  KDD2016 paper 799   \n",
              "\n",
              "                                        videodescription videocategorylabel  \n",
              "0      Download Excel File: http://excelisfun.net/fil...          Education  \n",
              "1      Download Excel File: http://excelisfun.net/fil...          Education  \n",
              "2      Download Excel File: http://excelisfun.net/fil...          Education  \n",
              "3      Download Excel File: http://excelisfun.net/fil...          Education  \n",
              "4      Download Excel File: http://excelisfun.net/fil...          Education  \n",
              "...                                                  ...                ...  \n",
              "43647  Title: Sampling of Attributed Networks from Hi...     People & Blogs  \n",
              "43648  Title: Identifying Earmarks in Congressional B...     People & Blogs  \n",
              "43649  Title: Online Feature Selection: A Limited-Mem...     People & Blogs  \n",
              "43650  Title: Scalable Betweenness Centrality Maximiz...     People & Blogs  \n",
              "43651  Title: Identifying Earmarks in Congressional B...     People & Blogs  \n",
              "\n",
              "[43652 rows x 3 columns]"
            ]
          },
          "execution_count": 44,
          "metadata": {},
          "output_type": "execute_result"
        }
      ],
      "source": [
        "df"
      ],
      "id": "ficJjlYwoW8H"
    },
    {
      "cell_type": "code",
      "execution_count": null,
      "metadata": {
        "id": "j1o4YYaGoW8I"
      },
      "outputs": [],
      "source": [
        "df_iter = df.iterrows()\n",
        "index, document = next(df_iter)"
      ],
      "id": "j1o4YYaGoW8I"
    },
    {
      "cell_type": "markdown",
      "source": [
        "Iteration is done through all the rows and keys are extracted in corelation with Indexes"
      ],
      "metadata": {
        "id": "9sULGtNmwZxr"
      },
      "id": "9sULGtNmwZxr"
    },
    {
      "cell_type": "code",
      "execution_count": null,
      "metadata": {
        "id": "zlgG-OOYoW8J"
      },
      "outputs": [],
      "source": [
        "\n",
        "use_these_keys = ['videocategorylabel','videotitle','videodescription']\n",
        "def filterKeys(document):\n",
        "    return {key: document[key] for key in use_these_keys }"
      ],
      "id": "zlgG-OOYoW8J"
    },
    {
      "cell_type": "markdown",
      "source": [
        "A loop is created which iterates through our list and then adds them to our previously created Elastic search index. Since we have large set of records we need to use bulk Indexing to optimize the process."
      ],
      "metadata": {
        "id": "RR_drk9awsVC"
      },
      "id": "RR_drk9awsVC"
    },
    {
      "cell_type": "code",
      "execution_count": null,
      "metadata": {
        "id": "baX_PU-FoW8K",
        "outputId": "230df362-c3d7-4f08-e549-d9096cc86afd"
      },
      "outputs": [
        {
          "data": {
            "text/plain": [
              "(43652, [])"
            ]
          },
          "execution_count": 47,
          "metadata": {},
          "output_type": "execute_result"
        }
      ],
      "source": [
        "from elasticsearch import Elasticsearch\n",
        "from elasticsearch import helpers\n",
        "import uuid\n",
        "es_client = Elasticsearch(http_compress=True)\n",
        "def doc_generator(df):\n",
        "    df_iter = df.iterrows()\n",
        "    for index, document in df_iter:\n",
        "        yield {\n",
        "                \"_index\": 'youtube_index',\n",
        "                \"_type\": \"_doc\",\n",
        "                \"_id\" : uuid.uuid4(),\n",
        "                \"_source\": filterKeys(document),\n",
        "            }\n",
        "helpers.bulk(es_client, doc_generator(df))"
      ],
      "id": "baX_PU-FoW8K"
    },
    {
      "cell_type": "markdown",
      "source": [
        "**Searching the Index**\n",
        "\n",
        "\n",
        "Since we have all the documents loaded to our index, we will use the ElasticSearch query language that supports several types of query types. \n",
        "\n",
        "In our search engine, we'll be using the **best fields** query type. The best_fields type is most useful when you are **searching for multiple words** best found in the same field."
      ],
      "metadata": {
        "id": "9GaD2_rrxlTt"
      },
      "id": "9GaD2_rrxlTt"
    },
    {
      "cell_type": "code",
      "execution_count": null,
      "metadata": {
        "id": "DslCfrQ2oW8L"
      },
      "outputs": [],
      "source": [
        "# collapse-hide\n",
        "def search_es(es_obj, index_name, question_text, n_results):\n",
        "    \n",
        "    # construct query\n",
        "    query = {\n",
        "              \"query\": {\n",
        "                    \"multi_match\" : {\n",
        "                      \"query\":      question_text,\n",
        "                      \"type\":       \"best_fields\",\n",
        "                      \"fields\":     [ \"videocategorylabel\",\"videodescription\",\"videotitle\"],\n",
        "                      \"tie_breaker\": 0.3\n",
        "                    }\n",
        "                  }\n",
        "            }\n",
        "    \n",
        "    res = es_obj.search(index=index_name, body=query, size=n_results)\n",
        "    \n",
        "    return res"
      ],
      "id": "DslCfrQ2oW8L"
    },
    {
      "cell_type": "markdown",
      "source": [
        "Now our best_fields query type is created, we will execute a query on our search engine, here question_text is our query"
      ],
      "metadata": {
        "id": "WPj5xRiYyyoN"
      },
      "id": "WPj5xRiYyyoN"
    },
    {
      "cell_type": "code",
      "execution_count": null,
      "metadata": {
        "id": "NAb5BaN1oW8M"
      },
      "outputs": [],
      "source": [
        "question_text = 'Dynamic'\n",
        "\n",
        "# execute query\n",
        "res = search_es(es_obj=es, index_name='youtube_index', question_text=question_text, n_results=20)"
      ],
      "id": "NAb5BaN1oW8M"
    },
    {
      "cell_type": "markdown",
      "source": [
        "Post query execution, all the videos related to the query are retrieved along with the **query execution duration and Relevance score**"
      ],
      "metadata": {
        "id": "W0EJxDgizSQ9"
      },
      "id": "W0EJxDgizSQ9"
    },
    {
      "cell_type": "code",
      "execution_count": null,
      "metadata": {
        "id": "8kOrQwV-oW8N",
        "outputId": "f445f448-73a9-405b-ae6c-60d3d17b2f34"
      },
      "outputs": [
        {
          "name": "stdout",
          "output_type": "stream",
          "text": [
            "Question: Dynamic\n",
            "Query Duration: 864 milliseconds\n",
            "VideoCategoryLabel, Title, Relevance Score:\n"
          ]
        },
        {
          "data": {
            "text/plain": [
              "[('Science & Technology',\n",
              "  'Excel Dynamic Chart #10: OFFSET Function Dynamic Range',\n",
              "  'e92c378d-eca3-4434-8d31-91a4a2eb7966',\n",
              "  9.332223),\n",
              " ('Education',\n",
              "  'Dynamic Programming',\n",
              "  'ef3f34be-a598-483a-9573-ae1a81bea94a',\n",
              "  9.277651),\n",
              " ('Education',\n",
              "  'Excel 2013 Statistical Analysis #36: Dynamic Binomial Probability Charts (3 Examples)',\n",
              "  'c97a812e-d4b2-4ef2-9d52-a3eaa7988e0c',\n",
              "  9.233617),\n",
              " ('Science & Technology',\n",
              "  'Excel Dynamic Chart #9: 4 Week Chart Dynamic Formula & Dynamic Data Validation Formula',\n",
              "  'f01e4f59-3ec0-4774-a730-fbd47116fc21',\n",
              "  9.216183),\n",
              " ('Howto & Style',\n",
              "  'Dueling Excel - Dynamic OFFSET or INDEX?: #1384',\n",
              "  'f8de5ff2-cecc-4c45-8e97-8baa2144ce99',\n",
              "  9.126232),\n",
              " ('Education',\n",
              "  'Excel Dynamic Arrays: Fully Dynamic Cross Tabulated Reports? Unbelievable! EMT 1520',\n",
              "  'e2d2e99c-28a1-4964-8fb2-3af3a69fc0a2',\n",
              "  9.067312),\n",
              " ('Science & Technology',\n",
              "  'Excel Magic Trick 636: Dynamic Frequency Table & Histogram Chart',\n",
              "  '0b8715f3-2313-4780-b951-06a7226e64a1',\n",
              "  9.064688),\n",
              " ('People & Blogs',\n",
              "  'Identifiability and Transportability in Dynamic Causal Networks',\n",
              "  '3c03a007-99c8-4031-8e7b-a4d13ab447c9',\n",
              "  9.040009),\n",
              " ('Education',\n",
              "  'How to Create a Dynamic Chart Range in Excel',\n",
              "  '00b66e2a-36ad-4dc8-ade2-ab891d75fd6b',\n",
              "  8.980466),\n",
              " ('Education',\n",
              "  'Dynamic Data Allocation in Java | Edureka',\n",
              "  'a1faaec5-979f-4082-8d6a-6a0d72fe2cf6',\n",
              "  8.945429),\n",
              " ('Education',\n",
              "  'How to create dynamic sparklines in Excel',\n",
              "  '37dfa56f-9b23-41db-95a1-c4d98c71567b',\n",
              "  8.856295),\n",
              " ('Science & Technology',\n",
              "  'Kyle Knapp - Dynamic Class Generation in Python',\n",
              "  '8a0b2247-2a94-4578-a4d1-d9d3234642ad',\n",
              "  8.825126),\n",
              " ('Education',\n",
              "  'Create Dynamic Excel Filter - Extract data as you type',\n",
              "  '4dcbcdfe-342d-4698-b63b-e7eca9c39b75',\n",
              "  8.794132),\n",
              " ('Education',\n",
              "  'Dynamic Dashboard using Excel - a Tutorial',\n",
              "  'ab7aecb1-8dd4-47e1-9ceb-cb8a41e7e0fa',\n",
              "  8.781022),\n",
              " ('Education',\n",
              "  'Create a Dynamic Lookup Table using INDEX & LOOKUP Functions. Excel Magic Trick 1649',\n",
              "  '12255ff5-4cdb-48f4-9ff6-834d1efab963',\n",
              "  8.6999855),\n",
              " ('Science & Technology',\n",
              "  'Excel Magic Trick # 262: Dynamic Weekly Chart',\n",
              "  '52dca8e2-e6f5-4e2d-8a8c-ee6b7a4445dd',\n",
              "  8.6735115),\n",
              " ('Education',\n",
              "  'Dynamic Binding | What is Dynamic Binding | iOS Development Tutorial | Edureka',\n",
              "  'e3d1bd36-d7ff-49ea-bb15-0bae69853f74',\n",
              "  8.651467),\n",
              " ('Education',\n",
              "  'Excel Dynamic Arrays & Conditional Formatting for Spilled Arrays (Excel Magic Trick 1525)',\n",
              "  'c9a71de0-c51a-4ca7-bf77-143f0591822e',\n",
              "  8.634522),\n",
              " ('Education',\n",
              "  'Excel Dynamic Arrays: Accounting: Dynamic Schedule of Accounts (Excel Magic Trick 1530)',\n",
              "  '535db43f-32b1-4428-86de-eaab1b05ae85',\n",
              "  8.619992),\n",
              " ('Education',\n",
              "  'Improve readability of Excel Line Charts: Dynamic Legends in Excel',\n",
              "  'fefe5daa-12dc-423b-b8e7-08c4411cead9',\n",
              "  8.605209)]"
            ]
          },
          "execution_count": 51,
          "metadata": {},
          "output_type": "execute_result"
        }
      ],
      "source": [
        "print(f'Question: {question_text}')\n",
        "print(f'Query Duration: {res[\"took\"]} milliseconds')\n",
        "print('VideoCategoryLabel, Title, Relevance Score:')\n",
        "[( hit['_source']['videocategorylabel'], hit['_source']['videotitle'],hit['_id'],hit['_score']) for hit in res['hits']['hits']]"
      ],
      "id": "8kOrQwV-oW8N"
    },
    {
      "cell_type": "markdown",
      "source": [
        "With respect to our search engine, we have considered three fields to retrieve video as per user query:\n",
        "\n",
        "\n",
        "1.   videocategorylabel\n",
        "2.   videodescription\n",
        "3.   videotitle,\n",
        "\n",
        "Out of which video category label has the highest priority. From our above query \"dynamic\", we have created ground truth labels and assigned ratings based on prioritization of field videocategorylabel \n",
        "\n"
      ],
      "metadata": {
        "id": "8bQLcis_08k7"
      },
      "id": "8bQLcis_08k7"
    },
    {
      "cell_type": "code",
      "execution_count": null,
      "metadata": {
        "id": "zcN6Fu7KoW8O"
      },
      "outputs": [],
      "source": [
        "request_body=  [\n",
        "        {\n",
        "            \"id\": \"Dynamic\",\n",
        "            \"request\": {\n",
        "                \"query\": {\n",
        "                    \"multi_match\": {\n",
        "                        \"query\": \"Dynamic\",\n",
        "                        \"type\": \"best_fields\",\n",
        "                        \"fields\": [\n",
        "                            \"videocategorylabel\",\n",
        "                            \"videodescription\",\n",
        "                            \"videoTitle\"\n",
        "                        ],\n",
        "                        \"tie_breaker\": 0.3\n",
        "                    }\n",
        "                }\n",
        "            },\n",
        "            \"ratings\": [\n",
        "                {\n",
        "                    \"_id\": \"e92c378d-eca3-4434-8d31-91a4a2eb7966\",\n",
        "                    \"rating\": 1,\n",
        "                    \"_index\": \"youtube_index\"\n",
        "                },\n",
        "                {\n",
        "                    \"_id\": \"ef3f34be-a598-483a-9573-ae1a81bea94a\",\n",
        "                    \"rating\": 2,\n",
        "                    \"_index\": \"youtube_index\"\n",
        "                },\n",
        "                {\n",
        "                    \"_id\": \"c97a812e-d4b2-4ef2-9d52-a3eaa7988e0c\",\n",
        "                    \"rating\": 3,\n",
        "                    \"_index\": \"youtube_index\"\n",
        "                },\n",
        "                {\n",
        "                    \"_id\": \"f01e4f59-3ec0-4774-a730-fbd47116fc21\",\n",
        "                    \"rating\": 4,\n",
        "                    \"_index\": \"youtube_index\"\n",
        "                },\n",
        "                {\n",
        "                    \"_id\": \"f8de5ff2-cecc-4c45-8e97-8baa2144ce99\",\n",
        "                    \"rating\": 5,\n",
        "                    \"_index\": \"youtube_index\"\n",
        "                },\n",
        "                {\n",
        "                    \"_id\": \"e2d2e99c-28a1-4964-8fb2-3af3a69fc0a2\",\n",
        "                    \"rating\": 6,\n",
        "                    \"_index\": \"youtube_index\"\n",
        "                },\n",
        "                {\n",
        "                    \"_id\": \"0b8715f3-2313-4780-b951-06a7226e64a1\",\n",
        "                    \"rating\": 7,\n",
        "                    \"_index\": \"youtube_index\"\n",
        "                },\n",
        "                {\n",
        "                    \"_id\": \"3c03a007-99c8-4031-8e7b-a4d13ab447c9\",\n",
        "                    \"rating\": 8,\n",
        "                    \"_index\": \"youtube_index\"\n",
        "                },\n",
        "                {\n",
        "                    \"_id\": \"00b66e2a-36ad-4dc8-ade2-ab891d75fd6b\",\n",
        "                    \"rating\": 9,\n",
        "                    \"_index\": \"youtube_index\"\n",
        "                },\n",
        "                {\n",
        "                    \"_id\": \"a1faaec5-979f-4082-8d6a-6a0d72fe2cf6\",\n",
        "                    \"rating\": 10,\n",
        "                    \"_index\": \"youtube_index\"\n",
        "                },\n",
        "                {\n",
        "                    \"_id\": \"37dfa56f-9b23-41db-95a1-c4d98c71567b\",\n",
        "                    \"rating\": 11,\n",
        "                    \"_index\": \"youtube_index\"\n",
        "                },\n",
        "                {\n",
        "                    \"_id\": \"8a0b2247-2a94-4578-a4d1-d9d3234642ad\",\n",
        "                    \"rating\": 12,\n",
        "                    \"_index\": \"youtube_index\"\n",
        "                },\n",
        "                {\n",
        "                    \"_id\": \"4dcbcdfe-342d-4698-b63b-e7eca9c39b75\",\n",
        "                    \"rating\": 13,\n",
        "                    \"_index\": \"youtube_index\"\n",
        "                },\n",
        "                {\n",
        "                    \"_id\": \"ab7aecb1-8dd4-47e1-9ceb-cb8a41e7e0fa\",\n",
        "                    \"rating\": 14,\n",
        "                    \"_index\": \"youtube_index\"\n",
        "                },\n",
        "                {\n",
        "                    \"_id\": \"12255ff5-4cdb-48f4-9ff6-834d1efab963\",\n",
        "                    \"rating\": 15,\n",
        "                    \"_index\": \"youtube_index\"\n",
        "                }\n",
        "\n",
        "            ]\n",
        "        }\n",
        "]"
      ],
      "id": "zcN6Fu7KoW8O"
    },
    {
      "cell_type": "markdown",
      "source": [
        "**Evaluation of our search engine**\n",
        "\n",
        "Ranking Evaluation API evaluates the quality of ranked search results over a set of typical search queries. The evaluation starts with looking at the user queries, and the things that they are searching for.\n",
        "In order to start our search quality evaluation, we have considered below three mandatory attributes:\n",
        "\n",
        "A collection of documents used to evaluate our query performance.\n",
        "\n",
        "A collection of typical search requests\n",
        "\n",
        "A set of document ratings that represent the documents relevance, which we implemented in previous cell.\n",
        "\n",
        "Evaluation Metrics\n",
        "The metric section determines which of the evaluation metrics will be used. For our serach engine evaluation performed based on below metrics\n",
        "\n",
        "**1) Precision :** This metric measures the proportion of relevant results in the top k search results. It is the fraction of relevant documents in those first k results. A paramater K needs to be set, which represent maximum number of documents retrieved per query.\n",
        "\n",
        "**2) Recall:** This metric measures the total number of relevant results in the top k search results. It is the fraction of relevant documents in those first k results relative to all possible relevant results. Similar to Precision, K needs to the set which represents maximum number of documents retrieved per query.\n",
        "\n",
        "**3) Mean Reciprocal Rank:** For every query in the test suite, this metric calculates the reciprocal of the rank of the first relevant document.The reciprocal rank for each query is averaged across all queries in the test suite to give the mean reciprocal rank.\n",
        "\n",
        "**4) Discounted Cumulative Gain:** DCG takes both the rank and the rating of the search results into account.The assumption is that highly relevant documents are more useful for the user when appearing at the top of the result list.\n",
        "\n",
        "**5) Expected Reciprocal Rank:** Expected Reciprocal Rank (ERR) is an extension of the classical reciprocal rank for the graded relevance case. The metric models the expectation of the reciprocal of the position at which a user stops reading through the result list. This means that a relevant document in a top ranking position will have a large contribution to the overall score."
      ],
      "metadata": {
        "id": "q0xbvi4h4Xtr"
      },
      "id": "q0xbvi4h4Xtr"
    },
    {
      "cell_type": "code",
      "execution_count": null,
      "metadata": {
        "id": "ITWfK5IsoW8Q"
      },
      "outputs": [],
      "source": [
        "import requests\n",
        "import json\n",
        "\n",
        "url = \"http://localhost:9200/youtube_index/_rank_eval\"\n",
        "headers = {\n",
        "  'Content-Type': 'application/json'\n",
        "}"
      ],
      "id": "ITWfK5IsoW8Q"
    },
    {
      "cell_type": "markdown",
      "source": [
        "**1)Precision Evaluation Number 1 :** K = 5"
      ],
      "metadata": {
        "id": "icYIxBYdBiek"
      },
      "id": "icYIxBYdBiek"
    },
    {
      "cell_type": "code",
      "execution_count": null,
      "metadata": {
        "id": "tcDLnAlJoW8R",
        "outputId": "b04c6c54-a92b-429e-8a93-df38d2bebb32"
      },
      "outputs": [
        {
          "name": "stdout",
          "output_type": "stream",
          "text": [
            "Score is 1.0\n",
            "{'precision': {'relevant_docs_retrieved': 5, 'docs_retrieved': 5}}\n"
          ]
        }
      ],
      "source": [
        "payload = json.dumps({\n",
        "  \"requests\": request_body,\n",
        "  \"metric\": {\n",
        "    \"precision\": {\n",
        "      \"k\": 5,\n",
        "      \"relevant_rating_threshold\": 1,\n",
        "      \"ignore_unlabeled\": False\n",
        "    }\n",
        "  }\n",
        "})\n",
        "\n",
        "response = requests.request(\"POST\", url, headers=headers, data=payload)\n",
        "\n",
        "json_data = json.loads(response.text)\n",
        "print(\"Score is\",json_data['details']['Dynamic']['metric_score'])\n",
        "print(json_data['details']['Dynamic']['metric_details'])\n"
      ],
      "id": "tcDLnAlJoW8R"
    },
    {
      "cell_type": "markdown",
      "source": [
        "**1)Precision Evaluation Number 2 :** K = 10"
      ],
      "metadata": {
        "id": "qc8gg4rlCBOm"
      },
      "id": "qc8gg4rlCBOm"
    },
    {
      "cell_type": "code",
      "execution_count": null,
      "metadata": {
        "id": "kqdjpVqKoW8S",
        "outputId": "9313a306-a506-4c1e-a0f4-636263eb6476"
      },
      "outputs": [
        {
          "name": "stdout",
          "output_type": "stream",
          "text": [
            "Score is 0.7\n",
            "{'precision': {'relevant_docs_retrieved': 7, 'docs_retrieved': 10}}\n"
          ]
        }
      ],
      "source": [
        "payload = json.dumps({\n",
        "  \"requests\": request_body,\n",
        "  \"metric\": {\n",
        "    \"precision\": {\n",
        "      \"k\": 10,\n",
        "      \"relevant_rating_threshold\": 1,\n",
        "      \"ignore_unlabeled\": False\n",
        "    }\n",
        "  }\n",
        "})\n",
        "\n",
        "response = requests.request(\"POST\", url, headers=headers, data=payload)\n",
        "\n",
        "json_data = json.loads(response.text)\n",
        "print(\"Score is\",json_data['details']['Dynamic']['metric_score'])\n",
        "print(json_data['details']['Dynamic']['metric_details'])"
      ],
      "id": "kqdjpVqKoW8S"
    },
    {
      "cell_type": "markdown",
      "source": [
        "**Precision Evaluation Number 3 :** K = 15\n",
        "\n",
        "\n"
      ],
      "metadata": {
        "id": "dQZhSqv5CSki"
      },
      "id": "dQZhSqv5CSki"
    },
    {
      "cell_type": "code",
      "execution_count": null,
      "metadata": {
        "id": "rIp4H2rOoW8S",
        "outputId": "7ec90613-0f41-47d9-aee7-38e1a175a198"
      },
      "outputs": [
        {
          "name": "stdout",
          "output_type": "stream",
          "text": [
            "Score is 0.4666666666666667\n",
            "{'precision': {'relevant_docs_retrieved': 7, 'docs_retrieved': 15}}\n"
          ]
        }
      ],
      "source": [
        "payload = json.dumps({\n",
        "  \"requests\": request_body,\n",
        "  \"metric\": {\n",
        "    \"precision\": {\n",
        "      \"k\": 15,\n",
        "      \"relevant_rating_threshold\": 1,\n",
        "      \"ignore_unlabeled\": False\n",
        "    }\n",
        "  }\n",
        "})\n",
        "\n",
        "response = requests.request(\"POST\", url, headers=headers, data=payload)\n",
        "\n",
        "json_data = json.loads(response.text)\n",
        "print(\"Score is\",json_data['details']['Dynamic']['metric_score'])\n",
        "print(json_data['details']['Dynamic']['metric_details'])"
      ],
      "id": "rIp4H2rOoW8S"
    },
    {
      "cell_type": "markdown",
      "source": [
        "**2) Recall Evaluation Number 1 :** K =5"
      ],
      "metadata": {
        "id": "UMK-Xh40CWqa"
      },
      "id": "UMK-Xh40CWqa"
    },
    {
      "cell_type": "code",
      "execution_count": null,
      "metadata": {
        "id": "_tFrlaYXoW8T",
        "outputId": "b213f694-0343-48c3-d691-825a48021569"
      },
      "outputs": [
        {
          "name": "stdout",
          "output_type": "stream",
          "text": [
            "Score is 0.3333333333333333\n",
            "{'recall': {'relevant_docs_retrieved': 5, 'relevant_docs': 15}}\n"
          ]
        }
      ],
      "source": [
        "payload = json.dumps({\n",
        "  \"requests\": request_body,\n",
        "   \"metric\": {\n",
        "    \"recall\": {\n",
        "      \"k\": 5,\n",
        "      \"relevant_rating_threshold\": 1\n",
        "    }\n",
        "  }\n",
        "})\n",
        "\n",
        "response = requests.request(\"POST\", url, headers=headers, data=payload)\n",
        "\n",
        "json_data = json.loads(response.text)\n",
        "print(\"Score is\",json_data['details']['Dynamic']['metric_score'])\n",
        "print(json_data['details']['Dynamic']['metric_details'])"
      ],
      "id": "_tFrlaYXoW8T"
    },
    {
      "cell_type": "markdown",
      "source": [
        "**Recall Evaluation Number 2 :** K = 10"
      ],
      "metadata": {
        "id": "tknE-mqpDV1a"
      },
      "id": "tknE-mqpDV1a"
    },
    {
      "cell_type": "code",
      "execution_count": null,
      "metadata": {
        "id": "YQS11IC3oW8U",
        "outputId": "097d4e3c-eb91-412e-955e-61cd67209d90"
      },
      "outputs": [
        {
          "name": "stdout",
          "output_type": "stream",
          "text": [
            "Score is 0.4666666666666667\n",
            "{'recall': {'relevant_docs_retrieved': 7, 'relevant_docs': 15}}\n"
          ]
        }
      ],
      "source": [
        "payload = json.dumps({\n",
        "  \"requests\": request_body,\n",
        "   \"metric\": {\n",
        "    \"recall\": {\n",
        "      \"k\": 10,\n",
        "      \"relevant_rating_threshold\": 1\n",
        "    }\n",
        "  }\n",
        "})\n",
        "\n",
        "response = requests.request(\"POST\", url, headers=headers, data=payload)\n",
        "\n",
        "json_data = json.loads(response.text)\n",
        "print(\"Score is\",json_data['details']['Dynamic']['metric_score'])\n",
        "print(json_data['details']['Dynamic']['metric_details'])"
      ],
      "id": "YQS11IC3oW8U"
    },
    {
      "cell_type": "markdown",
      "source": [
        "**Recall Evaluation Number 3 :** K =15"
      ],
      "metadata": {
        "id": "z5HptV9oDLHn"
      },
      "id": "z5HptV9oDLHn"
    },
    {
      "cell_type": "code",
      "execution_count": null,
      "metadata": {
        "id": "fnQWwa1DoW8V",
        "outputId": "5a603919-ee8a-48ea-f6d6-1fa4acfb181e"
      },
      "outputs": [
        {
          "name": "stdout",
          "output_type": "stream",
          "text": [
            "Score is 0.4666666666666667\n",
            "{'recall': {'relevant_docs_retrieved': 7, 'relevant_docs': 15}}\n"
          ]
        }
      ],
      "source": [
        "payload = json.dumps({\n",
        "  \"requests\": request_body,\n",
        "   \"metric\": {\n",
        "    \"recall\": {\n",
        "      \"k\": 15,\n",
        "      \"relevant_rating_threshold\": 1\n",
        "    }\n",
        "  }\n",
        "})\n",
        "\n",
        "response = requests.request(\"POST\", url, headers=headers, data=payload)\n",
        "\n",
        "json_data = json.loads(response.text)\n",
        "print(\"Score is\",json_data['details']['Dynamic']['metric_score'])\n",
        "print(json_data['details']['Dynamic']['metric_details'])"
      ],
      "id": "fnQWwa1DoW8V"
    },
    {
      "cell_type": "markdown",
      "source": [
        "**3) Mean Reciprocal Rank:** k=1"
      ],
      "metadata": {
        "id": "_eDwakCwDedL"
      },
      "id": "_eDwakCwDedL"
    },
    {
      "cell_type": "code",
      "execution_count": null,
      "metadata": {
        "id": "hC70DmVQoW8V",
        "outputId": "2ce1fb01-2f88-46cd-879f-7395f1c7c439"
      },
      "outputs": [
        {
          "name": "stdout",
          "output_type": "stream",
          "text": [
            "Score is 1.0\n",
            "{'mean_reciprocal_rank': {'first_relevant': 1}}\n"
          ]
        }
      ],
      "source": [
        "payload = json.dumps({\n",
        "  \"requests\": request_body,\n",
        "   \"metric\": {\n",
        "        \"mean_reciprocal_rank\": {\n",
        "            \"k\": 1,\n",
        "            \"relevant_rating_threshold\": 1\n",
        "        }\n",
        "    }\n",
        "})\n",
        "response = requests.request(\"POST\", url, headers=headers, data=payload)\n",
        "\n",
        "json_data = json.loads(response.text)\n",
        "print(\"Score is\",json_data['details']['Dynamic']['metric_score'])\n",
        "print(json_data['details']['Dynamic']['metric_details'])"
      ],
      "id": "hC70DmVQoW8V"
    },
    {
      "cell_type": "markdown",
      "source": [
        "**4) DCG Evaluation:** k=5"
      ],
      "metadata": {
        "id": "ykV8qk6yDj7R"
      },
      "id": "ykV8qk6yDj7R"
    },
    {
      "cell_type": "code",
      "execution_count": null,
      "metadata": {
        "id": "XAVc8S4HoW8W",
        "outputId": "9dc4558d-4c97-45a2-da43-3f6096fdf6d8"
      },
      "outputs": [
        {
          "name": "stdout",
          "output_type": "stream",
          "text": [
            "Score is 13031.984986658073\n",
            "{'dcg': {'dcg': 13031.984986658073, 'unrated_docs': 0}}\n"
          ]
        }
      ],
      "source": [
        "payload = json.dumps({\n",
        "  \"requests\": request_body,\n",
        "   \"metric\": {\n",
        "        \"dcg\": {\n",
        "            \"k\": 5,\n",
        "            \"normalize\": False\n",
        "        }\n",
        "    }\n",
        "})\n",
        "response = requests.request(\"POST\", url, headers=headers, data=payload)\n",
        "\n",
        "json_data = json.loads(response.text)\n",
        "print(\"Score is\",json_data['details']['Dynamic']['metric_score'])\n",
        "print(json_data['details']['Dynamic']['metric_details'])"
      ],
      "id": "XAVc8S4HoW8W"
    },
    {
      "cell_type": "markdown",
      "source": [
        "**DCG Evaluation :** k=10"
      ],
      "metadata": {
        "id": "fwCuMPVQDplk"
      },
      "id": "fwCuMPVQDplk"
    },
    {
      "cell_type": "code",
      "execution_count": null,
      "metadata": {
        "id": "5EtCMY8soW8X",
        "outputId": "db045dce-ae4f-46c9-dc07-5c0b3ea2d559"
      },
      "outputs": [
        {
          "name": "stdout",
          "output_type": "stream",
          "text": [
            "Score is 15588.55451385429\n",
            "{'dcg': {'dcg': 15588.55451385429, 'unrated_docs': 3}}\n"
          ]
        }
      ],
      "source": [
        "payload = json.dumps({\n",
        "  \"requests\": request_body,\n",
        "   \"metric\": {\n",
        "        \"dcg\": {\n",
        "            \"k\": 10,\n",
        "            \"normalize\": False\n",
        "        }\n",
        "    }\n",
        "})\n",
        "response = requests.request(\"POST\", url, headers=headers, data=payload)\n",
        "\n",
        "json_data = json.loads(response.text)\n",
        "print(\"Score is\",json_data['details']['Dynamic']['metric_score'])\n",
        "print(json_data['details']['Dynamic']['metric_details'])"
      ],
      "id": "5EtCMY8soW8X"
    },
    {
      "cell_type": "markdown",
      "source": [
        "**DCG Evaluation :** k=15"
      ],
      "metadata": {
        "id": "a_FYuPAFDuQ5"
      },
      "id": "a_FYuPAFDuQ5"
    },
    {
      "cell_type": "code",
      "execution_count": null,
      "metadata": {
        "id": "2W2hZvnxoW8X",
        "outputId": "65ba2a33-c957-4d83-dee5-61da28b40b88"
      },
      "outputs": [
        {
          "name": "stdout",
          "output_type": "stream",
          "text": [
            "Score is 15588.55451385429\n",
            "{'dcg': {'dcg': 15588.55451385429, 'unrated_docs': 8}}\n"
          ]
        }
      ],
      "source": [
        "payload = json.dumps({\n",
        "  \"requests\": request_body,\n",
        "   \"metric\": {\n",
        "        \"dcg\": {\n",
        "            \"k\": 15,\n",
        "            \"normalize\": False\n",
        "        }\n",
        "    }\n",
        "})\n",
        "response = requests.request(\"POST\", url, headers=headers, data=payload)\n",
        "\n",
        "json_data = json.loads(response.text)\n",
        "print(\"Score is\",json_data['details']['Dynamic']['metric_score'])\n",
        "print(json_data['details']['Dynamic']['metric_details'])"
      ],
      "id": "2W2hZvnxoW8X"
    },
    {
      "cell_type": "code",
      "source": [
        ""
      ],
      "metadata": {
        "id": "KyZr3fFdKJ-Y"
      },
      "id": "KyZr3fFdKJ-Y",
      "execution_count": null,
      "outputs": []
    },
    {
      "cell_type": "markdown",
      "source": [
        "**5) Expected Reciprocl rank Evaluation :** k=5\n",
        "\n",
        "\n"
      ],
      "metadata": {
        "id": "TJ6sebTLD0TR"
      },
      "id": "TJ6sebTLD0TR"
    },
    {
      "cell_type": "code",
      "execution_count": null,
      "metadata": {
        "id": "mG49G8-noW8Y",
        "outputId": "f27ea564-1795-4963-c0be-189429eccefd"
      },
      "outputs": [
        {
          "name": "stdout",
          "output_type": "stream",
          "text": [
            "Score is -275258.26440633135\n",
            "{'expected_reciprocal_rank': {'unrated_docs': 0}}\n"
          ]
        }
      ],
      "source": [
        "payload = json.dumps({\n",
        "  \"requests\": request_body,\n",
        "   \"metric\": {\n",
        "        \"expected_reciprocal_rank\": {\n",
        "            \"k\": 5,\n",
        "            \"maximum_relevance\": 3\n",
        "        }\n",
        "    }\n",
        "})\n",
        "response = requests.request(\"POST\", url, headers=headers, data=payload)\n",
        "\n",
        "json_data = json.loads(response.text)\n",
        "print(\"Score is\",json_data['details']['Dynamic']['metric_score'])\n",
        "print(json_data['details']['Dynamic']['metric_details'])"
      ],
      "id": "mG49G8-noW8Y"
    },
    {
      "cell_type": "markdown",
      "source": [
        "**Expected Reciprocl rank Evaluation :** k=10\n"
      ],
      "metadata": {
        "id": "UZZPcdZWD5Cg"
      },
      "id": "UZZPcdZWD5Cg"
    },
    {
      "cell_type": "code",
      "execution_count": null,
      "metadata": {
        "id": "MqICcBldoW8Z",
        "outputId": "ccb8c06f-e1ab-420d-8bc8-ee4c08ed7c69"
      },
      "outputs": [
        {
          "name": "stdout",
          "output_type": "stream",
          "text": [
            "Score is -4827277755.6741705\n",
            "{'expected_reciprocal_rank': {'unrated_docs': 3}}\n"
          ]
        }
      ],
      "source": [
        "payload = json.dumps({\n",
        "  \"requests\": request_body,\n",
        "   \"metric\": {\n",
        "        \"expected_reciprocal_rank\": {\n",
        "            \"k\": 10,\n",
        "            \"maximum_relevance\": 3\n",
        "        }\n",
        "    }\n",
        "})\n",
        "response = requests.request(\"POST\", url, headers=headers, data=payload)\n",
        "\n",
        "json_data = json.loads(response.text)\n",
        "print(\"Score is\",json_data['details']['Dynamic']['metric_score'])\n",
        "print(json_data['details']['Dynamic']['metric_details'])"
      ],
      "id": "MqICcBldoW8Z"
    },
    {
      "cell_type": "markdown",
      "source": [
        "**Expected Reciprocl rank Evaluation :** k=15\n"
      ],
      "metadata": {
        "id": "4Ty5VPVYEAU0"
      },
      "id": "4Ty5VPVYEAU0"
    },
    {
      "cell_type": "code",
      "execution_count": null,
      "metadata": {
        "id": "2WngamDYoW8Z",
        "outputId": "0d7d2de7-fc8d-4a82-aa9b-2150aa80a0a8"
      },
      "outputs": [
        {
          "name": "stdout",
          "output_type": "stream",
          "text": [
            "Score is -4827277755.6741705\n",
            "{'expected_reciprocal_rank': {'unrated_docs': 8}}\n"
          ]
        }
      ],
      "source": [
        "payload = json.dumps({\n",
        "  \"requests\": request_body,\n",
        "   \"metric\": {\n",
        "        \"expected_reciprocal_rank\": {\n",
        "            \"k\": 15,\n",
        "            \"maximum_relevance\": 3\n",
        "        }\n",
        "    }\n",
        "})\n",
        "response = requests.request(\"POST\", url, headers=headers, data=payload)\n",
        "\n",
        "json_data = json.loads(response.text)\n",
        "print(\"Score is\",json_data['details']['Dynamic']['metric_score'])\n",
        "print(json_data['details']['Dynamic']['metric_details'])"
      ],
      "id": "2WngamDYoW8Z"
    },
    {
      "cell_type": "markdown",
      "source": [
        "**Conclusion:**\n",
        "\n",
        "We have implemented elastic search on our Youtube dataset and have also measured the performance of our search engine using various evaluation metrics. Selection of query settings depends on the use case of the application and can be further analyzed using various parameters."
      ],
      "metadata": {
        "id": "1g27kIU2JeEy"
      },
      "id": "1g27kIU2JeEy"
    }
  ],
  "metadata": {
    "kernelspec": {
      "display_name": "Python 3",
      "language": "python",
      "name": "python3"
    },
    "language_info": {
      "codemirror_mode": {
        "name": "ipython",
        "version": 3
      },
      "file_extension": ".py",
      "mimetype": "text/x-python",
      "name": "python",
      "nbconvert_exporter": "python",
      "pygments_lexer": "ipython3",
      "version": "3.8.5"
    },
    "colab": {
      "name": "IR Implementation Using Elastic Search.ipynb",
      "provenance": [],
      "collapsed_sections": []
    }
  },
  "nbformat": 4,
  "nbformat_minor": 5
}